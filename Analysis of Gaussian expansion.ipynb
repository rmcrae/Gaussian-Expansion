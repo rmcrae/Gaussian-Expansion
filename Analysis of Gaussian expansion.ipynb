{
 "cells": [
  {
   "cell_type": "markdown",
   "metadata": {},
   "source": [
    "## A look at Taylor Series Expansions of a simple Gaussian function\n",
    "\n",
    "### Click on the \"run\" button above to run each cell in turn; wait for the \\* in the square brackets to go away before continuing"
   ]
  },
  {
   "cell_type": "code",
   "execution_count": null,
   "metadata": {},
   "outputs": [],
   "source": [
    "# initialization stuff\n",
    "from pylab import *\n",
    "%matplotlib inline\n",
    "import sympy as sym\n",
    "from IPython.display import display, Latex\n",
    "from scipy.special import factorial\n",
    "\n",
    "# set up variable and Gaussian function\n",
    "x = sym.symbols('x')\n",
    "f = sym.exp(-x**2)"
   ]
  },
  {
   "cell_type": "markdown",
   "metadata": {},
   "source": [
    "$f(x) = e^{-x^2}$ is easy to expand in a Taylor series; just use the known Taylor series expansion for $e^x$:\n",
    "$$e^x = 1 + x + \\frac{x^2}{2} + \\frac{x^3}{3!} + \\frac{x^4}{4!} + ...$$\n",
    "and substitute in $-x^2$ in place of the 'x' in this series to get:\n",
    "$$e^{-x^2} = 1 - x^2 + \\frac{x^4}{2} - \\frac{x^6}{3!} + \\frac{x^8}{4!} - ...$$\n",
    "\n",
    "Here is how to do this using the Python sympy package:"
   ]
  },
  {
   "cell_type": "code",
   "execution_count": null,
   "metadata": {
    "scrolled": true
   },
   "outputs": [],
   "source": [
    "# Yes, you can go out further than 32 terms; this gets the point across, though\n",
    "for N in [4, 8, 16, 32]:\n",
    "    result = \"$${} = {}$$\".format(\"f(x)\", sym.latex(f.series(x,0,N)))\n",
    "    display(Latex(result))"
   ]
  },
  {
   "cell_type": "markdown",
   "metadata": {},
   "source": [
    "To calculate the expansion efficiently, define a function that sums up the terms up to (but not including) the Nth power:"
   ]
  },
  {
   "cell_type": "code",
   "execution_count": null,
   "metadata": {},
   "outputs": [],
   "source": [
    "def TayGauss(x, N = 4):\n",
    "    # each term is of form (-1)^n x^(2n)/n!\n",
    "    n_vals = range(N//2)\n",
    "    result = sum([(-x**2)**n / factorial(n) for n in n_vals])\n",
    "    return result\n",
    "    "
   ]
  },
  {
   "cell_type": "markdown",
   "metadata": {},
   "source": [
    "Compare the results of the analytical expansion to that of the numerical calculation to be convincing:  Choose different values of N in the cell below, should get the same numerical results from both methods of expansion:"
   ]
  },
  {
   "cell_type": "code",
   "execution_count": null,
   "metadata": {},
   "outputs": [],
   "source": [
    "# Choose number of terms by changing value of N in below line:\n",
    "N = 8\n",
    "# Set value of x at which to evaluate expansion:\n",
    "xtry = 0.5\n",
    "\n",
    "eval_f = f.series(x, 0, N).removeO()\n",
    "analytical_result = eval_f.subs(x, xtry)\n",
    "numerical_result  = TayGauss(xtry, N)\n",
    "true_value = f.subs(x, xtry)\n",
    "print(f\"True Value:           {true_value}\")\n",
    "print(f\"Analytical Expansion: {analytical_result}\")\n",
    "print(f\"Numerical Expansion:  {numerical_result}\")"
   ]
  },
  {
   "cell_type": "markdown",
   "metadata": {},
   "source": [
    "Now make a plot to show how well the expansions of different orders fit the Gaussian function, and save a copy as a PDF"
   ]
  },
  {
   "cell_type": "code",
   "execution_count": null,
   "metadata": {
    "scrolled": true
   },
   "outputs": [],
   "source": [
    "from scipy import vectorize\n",
    "TG = vectorize(TayGauss)\n",
    "\n",
    "x_array = linspace(0, 5, 250)\n",
    "plot(x_array, exp(-x_array**2), lw=4)\n",
    "for N in [4, 8, 16, 32, 64, 128]:\n",
    "    # note:  half of terms are zero, hence dividing N by 2 in label\n",
    "    plot(x_array, TG(x_array, N=N), label = \"%d terms\" % (N//2))\n",
    "ylim([-1.5,1.5])\n",
    "legend()\n",
    "title(\"Comparing Gaussian with expansions\");\n",
    "# savefig(\"expandGauss.pdf\") # uncomment to save figure locally to Downloads"
   ]
  },
  {
   "cell_type": "markdown",
   "metadata": {},
   "source": [
    "It's pretty easy to see visually why the integral of the short expansions give a negative result!"
   ]
  }
 ],
 "metadata": {
  "kernelspec": {
   "display_name": "Python 3",
   "language": "python",
   "name": "python3"
  },
  "language_info": {
   "codemirror_mode": {
    "name": "ipython",
    "version": 3
   },
   "file_extension": ".py",
   "mimetype": "text/x-python",
   "name": "python",
   "nbconvert_exporter": "python",
   "pygments_lexer": "ipython3",
   "version": "3.7.4"
  }
 },
 "nbformat": 4,
 "nbformat_minor": 2
}

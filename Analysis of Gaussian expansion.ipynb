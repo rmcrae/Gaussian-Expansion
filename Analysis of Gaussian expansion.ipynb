{
 "cells": [
  {
   "cell_type": "markdown",
   "metadata": {},
   "source": [
    "## A look at Taylor Series Expansions of a simple Gaussian function\n",
    "\n",
    "### Click on the \"run\" button above to run each cell in turn; wait for the \\* in the square brackets to go away before continuing"
   ]
  },
  {
   "cell_type": "markdown",
   "metadata": {},
   "source": [
    "### Background:\n",
    "\n",
    "The following homework problem was assigned to my Physical Chemistry Laboratory students (last year):\n",
    "\n",
    "5.  (**a**)  Find the first 4 non-zero terms in the MacLaurin Expansion of $\\int_0^1 \\rm{e}^{-x^2} dx$ .  \n",
    "(**b**)  Estimate the value of the integral $\\int_0^1 \\rm{e}^{-x^2} dx$  by integrating the terms of the MacLaurin Expansion of the integrand using the first 2 terms, and separately using the first 4 terms (*i.e.* get two different estimates).\n",
    "(**c**)  Estimate the value of the integral $\\int_0^5 \\rm{e}^{-x^2} dx$  by integrating the terms of the MacLaurin Expansion of the integrand using the first 2 terms, and separately using the first 4 terms (*i.e.* get two different estimates). \n",
    "(**d**)  Comment on the results of parts (**b**) and (c).  What, if anything, appears unusual?  Can you explain it? \n"
   ]
  },
  {
   "cell_type": "code",
   "execution_count": null,
   "metadata": {},
   "outputs": [],
   "source": [
    "# initialization stuff\n",
    "from pylab import *\n",
    "%matplotlib inline\n",
    "import sympy as sym\n",
    "from IPython.display import display, Latex\n",
    "from scipy.special import factorial\n",
    "\n",
    "# set up variable and Gaussian function\n",
    "x = sym.symbols('x')\n",
    "f = sym.exp(-x**2)\n",
    "\n",
    "def int_result(f, lower, upper, var = x, enclose = False, showN = False):\n",
    "    result = sym.integrate(f, var)\n",
    "    result = sym.latex(result)\n",
    "    #lupper = '\\{ {} \\}'.format(latex(upper))\n",
    "    # hand-made replacement for log\n",
    "    result = result.replace(\"\\log\",\"\\ln\")\n",
    "    result = r\"\\left( {} \\right) \\bigg \\rvert_{{ {} }}^{{ {} }}\".format(result, sym.latex(lower), sym.latex(upper))\n",
    "    \n",
    "    final = sym.integrate(f, (var, lower, upper))\n",
    "    Nfinal = sym.N(final)\n",
    "    final = sym.latex(final.simplify())\n",
    "    final = final.replace(\"\\log\", \"\\ln\")\n",
    "    int_format = \"\\int_{{ {} }}^{{  {}  }} ( {} ) d{}\" if enclose else \"\\int_{{ {} }}^{{ {} }} {} d{}\"\n",
    "    integral = int_format.format(sym.latex(lower), sym.latex(upper), sym.latex(f), sym.latex(var))\n",
    "    if showN:\n",
    "        output = \"$${0} = {1} = {2} = {3:.4f}$$\".format(sym.latex(integral), result, final, Nfinal)\n",
    "    else:\n",
    "        output = \"$${} = {} = {}$$\".format(sym.latex(integral), result, final)\n",
    "    display(Latex(output))\n",
    "        \n",
    "def display_int(fun, a, b,  inc = None):\n",
    "    ''' show integral graphically:\n",
    "        a, b    original integral interval\n",
    "        inc     increment to add to either side\n",
    "        fun     scipy function for integrand'''\n",
    "    if not inc:\n",
    "        inc = (b - a) / 20\n",
    "    da = a - inc\n",
    "    db = b + inc\n",
    "    xrng = linspace(da, db, 200)\n",
    "    yrng = fun(xrng)\n",
    "    intrng = linspace(a, b, 200)\n",
    "    plot(xrng, yrng, 'm', linewidth = 1.5)\n",
    "    grid()\n",
    "    fill_between(intrng, fun(intrng), hatch = '/', alpha = 0.5)"
   ]
  },
  {
   "cell_type": "code",
   "execution_count": null,
   "metadata": {},
   "outputs": [],
   "source": [
    "# NOTE:  if you run the following code block, all of the code blocks,\n",
    "# including this one, will be hidden, and you can see just the results\n",
    "# of everythin.  To undo that, select cell -> All Output -> Clear from\n",
    "# the menu bar just under the \"jupyter\" header above\n",
    "# For best effect, run all of the code cells EXCEPT the 'html' one immediately\n",
    "# below this, then come back and run the 'html' cell."
   ]
  },
  {
   "cell_type": "code",
   "execution_count": null,
   "metadata": {},
   "outputs": [],
   "source": [
    "%%html\n",
    "<style>\n",
    "div.input {\n",
    "    display:none;\n",
    "}\n",
    "</style>"
   ]
  },
  {
   "cell_type": "markdown",
   "metadata": {},
   "source": [
    "### Solutions:\n",
    " (**a**)  $f(x) = \\rm{e}^{-x^2}$ is easy to expand in a Taylor series; just use the known Taylor series expansion for $\\rm{e}^x$:\n",
    "$$\\rm{e}^x = 1 + x + \\frac{x^2}{2} + \\frac{x^3}{3!} + \\frac{x^4}{4!} + ...$$\n",
    "and substitute in $-x^2$ in place of the 'x' in this series to get:\n",
    "$$\\rm{e}^{-x^2} = 1 - x^2 + \\frac{x^4}{2} - \\frac{x^6}{3!} + \\frac{x^8}{4!} - ...$$\n",
    "\n",
    "Aside:  \n",
    "Here is how to do this using the Python sympy package:"
   ]
  },
  {
   "cell_type": "code",
   "execution_count": null,
   "metadata": {
    "scrolled": true
   },
   "outputs": [],
   "source": [
    "# Yes, you can go out further than 32 terms; this gets the point across, though\n",
    "for N in [4, 8, 16, 32]:\n",
    "    result = \"$${} = {}$$\".format(\"f(x)\", sym.latex(f.series(x,0,N)))\n",
    "    display(Latex(result))"
   ]
  },
  {
   "cell_type": "markdown",
   "metadata": {},
   "source": [
    "To calculate the expansion efficiently, define a function that sums up the terms up to (but not including) the Nth power:"
   ]
  },
  {
   "cell_type": "code",
   "execution_count": null,
   "metadata": {},
   "outputs": [],
   "source": [
    "# define numerical functions to use below\n",
    "\n",
    "from scipy import vectorize\n",
    "\n",
    "@vectorize\n",
    "def TayGauss(x, N = 4):\n",
    "    # each term is of form (-1)^n x^(2n)/n!\n",
    "    result = sum([(-x**2)**n / factorial(n) for n in range(N//2)])\n",
    "    return result\n",
    "\n",
    "# numerical Gaussian:\n",
    "def gauss(x):\n",
    "    return exp(-x**2)"
   ]
  },
  {
   "cell_type": "markdown",
   "metadata": {},
   "source": [
    "Compare the results of the analytical expansion to that of the numerical calculation to be convincing:  Choose different values of N in the cell below, should get the same numerical results from both methods of expansion:"
   ]
  },
  {
   "cell_type": "code",
   "execution_count": null,
   "metadata": {},
   "outputs": [],
   "source": [
    "# Choose number of terms by changing value of N in below line:\n",
    "N = 8\n",
    "# Set value of x at which to evaluate expansion:\n",
    "xtry = 0.5\n",
    "\n",
    "eval_f = f.series(x, 0, N).removeO()\n",
    "analytical_result = eval_f.subs(x, xtry)\n",
    "numerical_result  = TayGauss(xtry, N)\n",
    "true_value = f.subs(x, xtry)\n",
    "print(f\"Results at x = {xtry}\")\n",
    "print(f\"True Value:           {true_value}\")\n",
    "print(f\"Analytical Expansion: {analytical_result}\")\n",
    "print(f\"Numerical Expansion:  {numerical_result}\")"
   ]
  },
  {
   "cell_type": "markdown",
   "metadata": {},
   "source": [
    "(**b**)  Use 2-term and 4-term expansions to estimate value of $\\int_0^1 \\rm{e}^{-x^2} dx$.\n"
   ]
  },
  {
   "cell_type": "code",
   "execution_count": null,
   "metadata": {},
   "outputs": [],
   "source": [
    "print(\"True Result\")\n",
    "int_result(f, 0, 1, showN=True)\n",
    "for n_terms in [4, 8]:\n",
    "    g = f.series(x, 0, n_terms).removeO()\n",
    "    print(\"%d-term approximation\" % (n_terms//2))\n",
    "    int_result(g, 0, 1, enclose = True, showN=True)"
   ]
  },
  {
   "cell_type": "markdown",
   "metadata": {},
   "source": [
    "These results seem reasonable; clearly, the 4-term approximation does a better job.  Nothing wildly surprising."
   ]
  },
  {
   "cell_type": "markdown",
   "metadata": {},
   "source": [
    "Let's look at the integrals in more detail here"
   ]
  },
  {
   "cell_type": "code",
   "execution_count": null,
   "metadata": {},
   "outputs": [],
   "source": [
    "from scipy.integrate import quad\n",
    "ans = quad(gauss, 0, 1)[0]\n",
    "print(f\"Integral of actual Gaussian {ans:.6}\")\n",
    "display_int(gauss, 0, 1)\n"
   ]
  },
  {
   "cell_type": "code",
   "execution_count": null,
   "metadata": {},
   "outputs": [],
   "source": [
    "ans = quad(TayGauss, 0, 1)[0]\n",
    "print(f\"Integral of 2-term approximation {ans:.6}\")\n",
    "display_int(TayGauss, 0, 1)"
   ]
  },
  {
   "cell_type": "code",
   "execution_count": null,
   "metadata": {},
   "outputs": [],
   "source": [
    "\n",
    "def taylor8(x):\n",
    "    return TayGauss(x, N=8)\n",
    "ans = quad(taylor8, 0, 1)[0]\n",
    "print(f\"Integral of 4-term approximation: {ans:.6}\")\n",
    "display_int(taylor8, 0, 1)"
   ]
  },
  {
   "cell_type": "markdown",
   "metadata": {},
   "source": [
    "(**c**)  Use same approximations to estimate value of $$\\int_0^5 \\rm{e}^{-x^2} dx$$:"
   ]
  },
  {
   "cell_type": "code",
   "execution_count": null,
   "metadata": {},
   "outputs": [],
   "source": [
    "print(\"True Result\")\n",
    "int_result(f, 0, 5, showN=True)\n",
    "for n_terms in [4, 8]:\n",
    "    g = f.series(x, 0, n_terms).removeO()\n",
    "    print(\"%d-term approximation\" % (n_terms//2))\n",
    "    int_result(g, 0, 5, enclose = True, showN=True)"
   ]
  },
  {
   "cell_type": "markdown",
   "metadata": {},
   "source": [
    "### What?!  Clearly, since the integrand is positive everywhere, a negative integral is *gibberish*.  What is going on here??\n",
    "\n",
    "Note to reader:  frequently, PChem students just turn these results in, commenting blandly that they are off because it is an approximation....\n",
    "\n",
    "To explore this further, let's look at a plot of the original function, $\\rm{e}^{-x^2}$, along with the various MacLaurin expansions.  (You can save the resulting plot as a pdf to your Downloads file by uncommenting the last line of the following block and running the code block):"
   ]
  },
  {
   "cell_type": "code",
   "execution_count": null,
   "metadata": {
    "scrolled": true
   },
   "outputs": [],
   "source": [
    "from scipy import vectorize\n",
    "TG = vectorize(TayGauss)\n",
    "\n",
    "x_array = linspace(0, 5, 250)\n",
    "plot(x_array, exp(-x_array**2), lw=4)\n",
    "for N in [4, 8, 16, 32, 64, 128]:\n",
    "    # note:  half of terms are zero, hence dividing N by 2 in label\n",
    "    plot(x_array, TG(x_array, N=N), label = \"%d terms\" % (N//2))\n",
    "ylim([-1.5,1.5])\n",
    "legend()\n",
    "title(\"Comparing Gaussian with expansions\");\n",
    "# savefig(\"expandGauss.pdf\") # uncomment to save figure locally to Downloads"
   ]
  },
  {
   "cell_type": "markdown",
   "metadata": {},
   "source": [
    "It's pretty easy to see visually why the integral of the short expansions give a negative result!"
   ]
  }
 ],
 "metadata": {
  "kernelspec": {
   "display_name": "Python 3",
   "language": "python",
   "name": "python3"
  },
  "language_info": {
   "codemirror_mode": {
    "name": "ipython",
    "version": 3
   },
   "file_extension": ".py",
   "mimetype": "text/x-python",
   "name": "python",
   "nbconvert_exporter": "python",
   "pygments_lexer": "ipython3",
   "version": "3.7.4"
  }
 },
 "nbformat": 4,
 "nbformat_minor": 2
}

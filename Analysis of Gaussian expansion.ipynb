{
 "cells": [
  {
   "cell_type": "code",
   "execution_count": 48,
   "metadata": {},
   "outputs": [],
   "source": [
    "# initialization stuff\n",
    "from pylab import *\n",
    "%matplotlib inline\n",
    "import sympy as sym\n",
    "from IPython.display import display, Latex\n",
    "\n",
    "# set up variable and Gaussian function\n",
    "x = sym.symbols('x')\n",
    "f = sym.exp(-x**2)"
   ]
  },
  {
   "cell_type": "markdown",
   "metadata": {},
   "source": [
    "$f(x) = e^{-x^2}$ is easy to expand in a Taylor series; just use the known Taylor series expansion for $e^x$:\n",
    "$$e^x = 1 + x + \\frac{x^2}{2} + \\frac{x^3}{3!} + \\frac{x^4}{4!} + ...$$\n",
    "and substitute in $-x^2$ in place of the 'x' in this series to get:\n",
    "$$e^{-x^2} = 1 - x^2 + \\frac{x^4}{2} - \\frac{x^6}{3!} + \\frac{x^8}{4!} - ...$$\n",
    "\n",
    "Here is how to do this using the Python sympy package:"
   ]
  },
  {
   "cell_type": "code",
   "execution_count": 68,
   "metadata": {
    "scrolled": true
   },
   "outputs": [
    {
     "data": {
      "text/latex": [
       "$$f(x) = 1 - x^{2} + O\\left(x^{4}\\right)$$"
      ],
      "text/plain": [
       "<IPython.core.display.Latex object>"
      ]
     },
     "metadata": {},
     "output_type": "display_data"
    },
    {
     "data": {
      "text/latex": [
       "$$f(x) = 1 - x^{2} + \\frac{x^{4}}{2} - \\frac{x^{6}}{6} + O\\left(x^{8}\\right)$$"
      ],
      "text/plain": [
       "<IPython.core.display.Latex object>"
      ]
     },
     "metadata": {},
     "output_type": "display_data"
    },
    {
     "data": {
      "text/latex": [
       "$$f(x) = 1 - x^{2} + \\frac{x^{4}}{2} - \\frac{x^{6}}{6} + \\frac{x^{8}}{24} - \\frac{x^{10}}{120} + \\frac{x^{12}}{720} - \\frac{x^{14}}{5040} + O\\left(x^{16}\\right)$$"
      ],
      "text/plain": [
       "<IPython.core.display.Latex object>"
      ]
     },
     "metadata": {},
     "output_type": "display_data"
    },
    {
     "data": {
      "text/latex": [
       "$$f(x) = 1 - x^{2} + \\frac{x^{4}}{2} - \\frac{x^{6}}{6} + \\frac{x^{8}}{24} - \\frac{x^{10}}{120} + \\frac{x^{12}}{720} - \\frac{x^{14}}{5040} + \\frac{x^{16}}{40320} - \\frac{x^{18}}{362880} + \\frac{x^{20}}{3628800} - \\frac{x^{22}}{39916800} + \\frac{x^{24}}{479001600} - \\frac{x^{26}}{6227020800} + \\frac{x^{28}}{87178291200} - \\frac{x^{30}}{1307674368000} + O\\left(x^{32}\\right)$$"
      ],
      "text/plain": [
       "<IPython.core.display.Latex object>"
      ]
     },
     "metadata": {},
     "output_type": "display_data"
    }
   ],
   "source": [
    "# Yes, you can go out further than 32 terms; this gets the point across, though\n",
    "for N in [4, 8, 16, 32]:\n",
    "    result = \"$${} = {}$$\".format(\"f(x)\", sym.latex(f.series(x,0,N)))\n",
    "    display(Latex(result))"
   ]
  },
  {
   "cell_type": "markdown",
   "metadata": {},
   "source": [
    "To calculate the expansion efficiently, define a function that sums up the terms up to (but not including) the Nth power:"
   ]
  },
  {
   "cell_type": "code",
   "execution_count": 50,
   "metadata": {},
   "outputs": [],
   "source": [
    "def TayGauss(x, N = 4):\n",
    "    # each term is of form (-1)^n x^(2n)/n!\n",
    "    n_vals = range(N//2)\n",
    "    result = sum([(-x**2)**n / factorial(n) for n in n_vals])\n",
    "    return result\n",
    "    "
   ]
  },
  {
   "cell_type": "markdown",
   "metadata": {},
   "source": [
    "Compare the results of the analytical expansion to that of the numerical calculation to be convincing:  Choose different values of N in the cell below, should get the same numerical results from both methods of expansion:"
   ]
  },
  {
   "cell_type": "code",
   "execution_count": 66,
   "metadata": {},
   "outputs": [
    {
     "name": "stdout",
     "output_type": "stream",
     "text": [
      "True Value:           0.778800783071405\n",
      "Analytical Expansion: 0.778645833333333\n",
      "Numerical Expansion:  0.7786458333333334\n"
     ]
    }
   ],
   "source": [
    "# Choose number of terms by changing value of N in below line:\n",
    "N = 8\n",
    "# Set value of x at which to evaluate expansion:\n",
    "xtry = 0.5\n",
    "\n",
    "eval_f = f.series(x, 0, N).removeO()\n",
    "analytical_result = eval_f.subs(x, xtry)\n",
    "numerical_result  = TayGauss(xtry, N)\n",
    "true_value = f.subs(x, xtry)\n",
    "print(f\"True Value:           {true_value}\")\n",
    "print(f\"Analytical Expansion: {analytical_result}\")\n",
    "print(f\"Numerical Expansion:  {numerical_result}\")"
   ]
  },
  {
   "cell_type": "markdown",
   "metadata": {},
   "source": [
    "Now make a plot to show how well the expansions of different orders fit the Gaussian function, and save a copy as a PDF"
   ]
  },
  {
   "cell_type": "code",
   "execution_count": 52,
   "metadata": {
    "scrolled": true
   },
   "outputs": [
    {
     "data": {
      "image/png": "[encoded data removed]",
      "text/plain": [
       "<Figure size 432x288 with 1 Axes>"
      ]
     },
     "metadata": {
      "needs_background": "light"
     },
     "output_type": "display_data"
    }
   ],
   "source": [
    "from scipy import vectorize\n",
    "TG = vectorize(TayGauss)\n",
    "\n",
    "x_array = linspace(0, 5, 250)\n",
    "plot(x_array, exp(-x_array**2), lw=4)\n",
    "for N in [4, 8, 16, 32, 64, 128]:\n",
    "    # note:  half of terms are zero, hence dividing N by 2 in label\n",
    "    plot(x_array, TG(x_array, N=N), label = \"%d terms\" % (N//2))\n",
    "ylim([-1.5,1.5])\n",
    "legend()\n",
    "title(\"Comparing Gaussian with expansions\");\n",
    "# savefig(\"expandGauss.pdf\") # uncomment to save figure locally"
   ]
  },
  {
   "cell_type": "markdown",
   "metadata": {},
   "source": [
    "It's pretty easy to see visually why the integral of the short expansions give a negative result!"
   ]
  }
 ],
 "metadata": {
  "kernelspec": {
   "display_name": "Python 3",
   "language": "python",
   "name": "python3"
  },
  "language_info": {
   "codemirror_mode": {
    "name": "ipython",
    "version": 3
   },
   "file_extension": ".py",
   "mimetype": "text/x-python",
   "name": "python",
   "nbconvert_exporter": "python",
   "pygments_lexer": "ipython3",
   "version": "3.7.4"
  }
 },
 "nbformat": 4,
 "nbformat_minor": 2
}
